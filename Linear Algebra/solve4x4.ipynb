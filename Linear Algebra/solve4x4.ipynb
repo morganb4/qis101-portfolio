{
 "cells": [
  {
   "cell_type": "code",
   "execution_count": 11,
   "id": "c4039191-bcff-4b01-93cb-f85f6f6e8995",
   "metadata": {
    "tags": []
   },
   "outputs": [
    {
     "data": {
      "text/latex": [
       "$\\displaystyle Solutions\\;x_1\\;\\rightarrow\\;x_4\\;(Top\\;to\\;Bottom)$"
      ],
      "text/plain": [
       "<IPython.core.display.Math object>"
      ]
     },
     "metadata": {},
     "output_type": "display_data"
    },
    {
     "data": {
      "text/latex": [
       "$\\displaystyle \\large\\begin{bmatrix}16\\\\[1em]-6\\\\[1em]-2\\\\[1em]-3\\\\\\end{bmatrix}$"
      ],
      "text/plain": [
       "<IPython.core.display.Math object>"
      ]
     },
     "metadata": {},
     "output_type": "display_data"
    }
   ],
   "source": [
    "\"\"\"solve4x4.ipynb\"\"\"\n",
    "# Cell 1: Solve a 4-variable linear system\n",
    "\n",
    "from __future__ import annotations\n",
    "\n",
    "import typing\n",
    "\n",
    "import numpy as np\n",
    "from IPython.core.display import Math\n",
    "from qis101_utils import as_latex\n",
    "\n",
    "if typing.TYPE_CHECKING:\n",
    "    from numpy.typing import NDArray\n",
    "\n",
    "# Coefficient matrix\n",
    "coeffs: NDArray[np.int_] = np.array(\n",
    "    [[1, 2, 1, -1], [3, 2, 4, 4], [4, 4, 3, 4], [2, 0, 1, 5]], dtype=np.int_\n",
    ")\n",
    "\n",
    "# Matrix for value of each equation\n",
    "vals: NDArray[np.int_] = np.array([5, 16, 22, 15], dtype=np.int_)\n",
    "\n",
    "# Use numpy's linear algebra solver to solve the system\n",
    "sols: NDArray[np.float_] = np.linalg.solve(coeffs, vals)\n",
    "\n",
    "# Display solutions as a column\n",
    "display(Math(r\"Solutions\\;x_1\\;\\rightarrow\\;x_4\\;(Top\\;to\\;Bottom)\"))\n",
    "display(as_latex(sols, column=True))\n"
   ]
  },
  {
   "cell_type": "code",
   "execution_count": null,
   "id": "7da6aec4-d5de-4cf7-a2f3-d65713aacb0e",
   "metadata": {},
   "outputs": [],
   "source": []
  }
 ],
 "metadata": {
  "kernelspec": {
   "display_name": "Python 3 (ipykernel)",
   "language": "python",
   "name": "python3"
  },
  "language_info": {
   "codemirror_mode": {
    "name": "ipython",
    "version": 3
   },
   "file_extension": ".py",
   "mimetype": "text/x-python",
   "name": "python",
   "nbconvert_exporter": "python",
   "pygments_lexer": "ipython3",
   "version": "3.9.16"
  }
 },
 "nbformat": 4,
 "nbformat_minor": 5
}
