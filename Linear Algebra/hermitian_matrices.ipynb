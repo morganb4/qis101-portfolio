{
 "cells": [
  {
   "cell_type": "code",
   "execution_count": 3,
   "id": "a114f0a9-a0bf-4004-ba16-c135403f320e",
   "metadata": {
    "tags": []
   },
   "outputs": [
    {
     "data": {
      "text/latex": [
       "$\\displaystyle \\large\\mathbf{A}=\\begin{bmatrix}1 &5 + 10i &4 + 119i\\\\[1em]5-10i &2 &10-5i\\\\[1em]4-119i &10 + 5i &3\\\\\\end{bmatrix}$"
      ],
      "text/plain": [
       "<IPython.core.display.Math object>"
      ]
     },
     "metadata": {},
     "output_type": "display_data"
    },
    {
     "data": {
      "text/latex": [
       "$\\displaystyle \\large\\mathbf{A^{-1}}=\\begin{bmatrix}0.01167 &0.05589-0.11571i &-0.00902 + 0.01598i\\\\[1em]0.05589 + 0.11571i &1.38988 &-0.11767-0.05491i\\\\[1em]-0.00902-0.01598i &-0.11767 + 0.05491i &0.01206\\\\\\end{bmatrix}$"
      ],
      "text/plain": [
       "<IPython.core.display.Math object>"
      ]
     },
     "metadata": {},
     "output_type": "display_data"
    },
    {
     "data": {
      "text/latex": [
       "$\\displaystyle \\large\\mathbf{(A^{-1})^\\dagger}=\\begin{bmatrix}0.01167 &0.05589-0.11571i &-0.00902 + 0.01598i\\\\[1em]0.05589 + 0.11571i &1.38988 &-0.11767-0.05491i\\\\[1em]-0.00902-0.01598i &-0.11767 + 0.05491i &0.01206\\\\\\end{bmatrix}$"
      ],
      "text/plain": [
       "<IPython.core.display.Math object>"
      ]
     },
     "metadata": {},
     "output_type": "display_data"
    },
    {
     "data": {
      "text/latex": [
       "$\\displaystyle \\mathbf{A^{-1}=(A^{-1})^\\dagger}\\;\\rightarrow\\;True$"
      ],
      "text/plain": [
       "<IPython.core.display.Math object>"
      ]
     },
     "metadata": {},
     "output_type": "display_data"
    }
   ],
   "source": [
    "\"\"\"hermitian_matrices.ipynb\"\"\"\n",
    "\n",
    "# Cell 1 - The inverse of a Hermitian matrix is also Hermitian\n",
    "\n",
    "from __future__ import annotations\n",
    "\n",
    "import typing\n",
    "\n",
    "import numpy as np\n",
    "from IPython.core.display import Math\n",
    "from qis101_utils import as_latex\n",
    "\n",
    "if typing.TYPE_CHECKING:\n",
    "    from numpy.typing import NDArray\n",
    "\n",
    "# Define an arbitrary Hermitian matrix A\n",
    "a: NDArray[np.complex_] = np.array(\n",
    "    [\n",
    "        [1, 5 + 10j, 4 + 119j], \n",
    "        [5 - 10j, 2, 10 - 5j], \n",
    "        [4 - 119j, 10 + 5j, 3]\n",
    "    ], \n",
    "    dtype=np.complex_\n",
    ")\n",
    "\n",
    "# Create both sides, t1 and t2, of the equality to check\n",
    "# Find the inverse of the Hermitian matrix\n",
    "t1: NDArray[np.complex_] = np.linalg.inv(a)\n",
    "# Find the adjoint of the inverse\n",
    "t2: NDArray[np.complex_] = t1.conj().T\n",
    "\n",
    "# Display A, t1, and t2\n",
    "display(as_latex(a, prefix=r\"\\mathbf{A}=\"))\n",
    "display(as_latex(t1, prefix=r\"\\mathbf{A^{-1}}=\"))\n",
    "display(as_latex(t2, prefix=r\"\\mathbf{(A^{-1})^\\dagger}=\"))\n",
    "\n",
    "# Display whether t1 = t2\n",
    "display(\n",
    "    Math(\n",
    "        r\"\\mathbf{A^{-1}=(A^{-1})^\\dagger}\"\n",
    "        rf\"\\;\\rightarrow\\;{np.isclose(t1,t2).all()}\"\n",
    "    )\n",
    ")"
   ]
  },
  {
   "cell_type": "code",
   "execution_count": 15,
   "id": "ccf20f1b-fb7f-4246-b58c-dd7a01965f03",
   "metadata": {
    "tags": []
   },
   "outputs": [
    {
     "data": {
      "text/latex": [
       "$\\displaystyle \\large\\mathbf{A}=\\begin{bmatrix}1 &5 + 10i &4 + 119i\\\\[1em]5-10i &2 &10-5i\\\\[1em]4-119i &10 + 5i &3\\\\\\end{bmatrix}$"
      ],
      "text/plain": [
       "<IPython.core.display.Math object>"
      ]
     },
     "metadata": {},
     "output_type": "display_data"
    },
    {
     "data": {
      "text/latex": [
       "$\\displaystyle \\large\\mathbf{A^4}=\\begin{bmatrix}206722066 &-7422590 + 18683460i &1981624 + 17042514i\\\\[1em]-7422590-18683460i &3762216 &18972500 + 7278070i\\\\[1em]1981624-17042514i &18972500-7278070i &206990278\\\\\\end{bmatrix}$"
      ],
      "text/plain": [
       "<IPython.core.display.Math object>"
      ]
     },
     "metadata": {},
     "output_type": "display_data"
    },
    {
     "data": {
      "text/latex": [
       "$\\displaystyle \\large\\mathbf{(A^4)^\\dagger}=\\begin{bmatrix}206722066 &-7422590 + 18683460i &1981624 + 17042514i\\\\[1em]-7422590-18683460i &3762216 &18972500 + 7278070i\\\\[1em]1981624-17042514i &18972500-7278070i &206990278\\\\\\end{bmatrix}$"
      ],
      "text/plain": [
       "<IPython.core.display.Math object>"
      ]
     },
     "metadata": {},
     "output_type": "display_data"
    },
    {
     "data": {
      "text/latex": [
       "$\\displaystyle \\mathbf{A^4=(A^4)^\\dagger}\\;\\rightarrow\\;True$"
      ],
      "text/plain": [
       "<IPython.core.display.Math object>"
      ]
     },
     "metadata": {},
     "output_type": "display_data"
    }
   ],
   "source": [
    "# Cell 2 - A Hermitian matrix raised to an integer\n",
    "#          exponent yields another Hermitian matrix\n",
    "\n",
    "# Raise A to the 4th power\n",
    "t1: NDArray[np.complex_] = np.linalg.matrix_power(a, 4)\n",
    "# Find the adjoint of t1\n",
    "t2: NDArray[np.complex_] = t1.conj().T\n",
    "\n",
    "# Display A, t1, and t2\n",
    "display(as_latex(a, prefix=r\"\\mathbf{A}=\"))\n",
    "display(as_latex(t1, prefix=r\"\\mathbf{A^4}=\"))\n",
    "display(as_latex(t2, prefix=r\"\\mathbf{(A^4)^\\dagger}=\"))\n",
    "\n",
    "# Display whether t1 = t2\n",
    "display(\n",
    "    Math(\n",
    "        r\"\\mathbf{A^4=(A^4)^\\dagger}\"\n",
    "        rf\"\\;\\rightarrow\\;{np.isclose(t1,t2).all()}\"\n",
    "    )\n",
    ")"
   ]
  },
  {
   "cell_type": "code",
   "execution_count": null,
   "id": "ecf4a956-85ed-4278-97eb-b0c8bea711f9",
   "metadata": {},
   "outputs": [],
   "source": []
  }
 ],
 "metadata": {
  "kernelspec": {
   "display_name": "Python 3 (ipykernel)",
   "language": "python",
   "name": "python3"
  },
  "language_info": {
   "codemirror_mode": {
    "name": "ipython",
    "version": 3
   },
   "file_extension": ".py",
   "mimetype": "text/x-python",
   "name": "python",
   "nbconvert_exporter": "python",
   "pygments_lexer": "ipython3",
   "version": "3.9.16"
  }
 },
 "nbformat": 4,
 "nbformat_minor": 5
}
