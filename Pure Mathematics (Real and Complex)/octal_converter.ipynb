{
 "cells": [
  {
   "cell_type": "code",
   "execution_count": 9,
   "id": "b591f776-3a06-49c3-8f26-2b55bcef968d",
   "metadata": {},
   "outputs": [
    {
     "name": "stdout",
     "output_type": "stream",
     "text": [
      "2323 in base 8 = 1235 in base 10\n"
     ]
    }
   ],
   "source": [
    "\"\"\"octal_converter.ipynb\"\"\"\n",
    "# Cell 1: Convert 2323 (base 8) to base 10 by looping.\n",
    "\n",
    "# Based on @dbiersach's base_conversion.ipynb:\n",
    "# https://github.com/dbiersach/qis101/blob/0aa4537a02ac7f71d62ce6bbaf54e1e3175a5d51/labs/Session%2021%20-%20Digital%20Circuits/base_conversion.ipynb\n",
    "\n",
    "import numpy as np\n",
    "\n",
    "\n",
    "def octal_to_decimal(oct_num: str) -> int:\n",
    "    \"\"\"Convert a number in base 8 to base 10\"\"\"\n",
    "    # Reverse the order of the oct_num string so least significant digit is first\n",
    "    oct_num = oct_num[::-1]\n",
    "    # Initialize sum to hold the decimal representation\n",
    "    sum: int = 0\n",
    "    # Iterate through each digit of oct_num to find decimal representation\n",
    "    for position in range(len(oct_num)):\n",
    "        weight: int = pow(8, position)  # Calculate weight of the digit's position\n",
    "        # Add the product of each digit and its weight to sum\n",
    "        sum += int(oct_num[position]) * weight\n",
    "    return sum\n",
    "\n",
    "\n",
    "oct_num: str = \"2323\"  # Integer in base 8\n",
    "dec_num: int = octal_to_decimal(oct_num)\n",
    "print(f\"{oct_num} in base 8 = {dec_num} in base 10\")\n"
   ]
  },
  {
   "cell_type": "code",
   "execution_count": 10,
   "id": "abaad431-2080-49e4-a5ae-7efda69eb632",
   "metadata": {},
   "outputs": [
    {
     "name": "stdout",
     "output_type": "stream",
     "text": [
      "1235 in base 10 = 2323 in base 8\n"
     ]
    }
   ],
   "source": [
    "# Cell 2: Convert base 10 number from Cell 1 back to base 8 by looping.\n",
    "\n",
    "\n",
    "def decimal_to_octal(dec_num: int) -> str:\n",
    "    \"\"\"Convert a number in base 10 to base 8\"\"\"\n",
    "    # Initialize a string to store the number in base 8\n",
    "    oct_num: str = \"\"\n",
    "    # Iterate through base change algorithm\n",
    "    while dec_num > 0:\n",
    "        oct_num += str(dec_num % 8)\n",
    "        dec_num = dec_num // 8\n",
    "    # Return string in reverse so most significant digit comes first\n",
    "    return oct_num[::-1]\n",
    "\n",
    "\n",
    "oct_num = decimal_to_octal(dec_num)\n",
    "print(f\"{dec_num} in base 10 = {oct_num} in base 8\")\n"
   ]
  },
  {
   "cell_type": "code",
   "execution_count": 11,
   "id": "5955941d-e252-43db-8c98-30439c735212",
   "metadata": {},
   "outputs": [
    {
     "name": "stdout",
     "output_type": "stream",
     "text": [
      "2323 in base 8 = 1235 in base 10\n"
     ]
    }
   ],
   "source": [
    "# Cell 3: Convert base 8 number to base 10 without looping.\n",
    "\n",
    "dec_num = int(oct_num, 8)\n",
    "print(f\"{oct_num} in base 8 = {dec_num} in base 10\")\n"
   ]
  },
  {
   "cell_type": "code",
   "execution_count": 12,
   "id": "abb010cb-5773-47ac-b441-308a16ee5794",
   "metadata": {},
   "outputs": [
    {
     "name": "stdout",
     "output_type": "stream",
     "text": [
      "1235 in base 10 = 2323 in base 8\n"
     ]
    }
   ],
   "source": [
    "# Cell 4: Convert base 10 number to base 8 without looping.\n",
    "\n",
    "oct_num = np.base_repr(dec_num, base=8)\n",
    "print(f\"{dec_num} in base 10 = {oct_num} in base 8\")\n"
   ]
  },
  {
   "cell_type": "code",
   "execution_count": null,
   "id": "9b6bcf25-bafa-423d-b62b-bd86561e66d0",
   "metadata": {},
   "outputs": [],
   "source": []
  }
 ],
 "metadata": {
  "kernelspec": {
   "display_name": "Python 3 (ipykernel)",
   "language": "python",
   "name": "python3"
  },
  "language_info": {
   "codemirror_mode": {
    "name": "ipython",
    "version": 3
   },
   "file_extension": ".py",
   "mimetype": "text/x-python",
   "name": "python",
   "nbconvert_exporter": "python",
   "pygments_lexer": "ipython3",
   "version": "3.9.16"
  }
 },
 "nbformat": 4,
 "nbformat_minor": 5
}
