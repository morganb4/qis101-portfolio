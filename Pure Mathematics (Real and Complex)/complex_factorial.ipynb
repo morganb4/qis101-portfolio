{
 "cells": [
  {
   "cell_type": "code",
   "execution_count": 1,
   "id": "41b41b69-9cc7-472a-8129-340737b92547",
   "metadata": {},
   "outputs": [
    {
     "data": {
      "text/latex": [
       "$\\displaystyle i! = (0.4980156681184129-0.15494982827999607j)$"
      ],
      "text/plain": [
       "<IPython.core.display.Math object>"
      ]
     },
     "metadata": {},
     "output_type": "display_data"
    }
   ],
   "source": [
    "\"\"\"complex_factorial.ipynb\"\"\"\n",
    "# Cell 1: Calculate i! using Euler's Gamma Function\n",
    "\n",
    "# Imports\n",
    "import numpy as np\n",
    "from scipy.integrate import quad  # type: ignore\n",
    "from IPython.core.display import Math\n",
    "\n",
    "\"\"\"\n",
    "Calculates i! using gamma function evaluated at (i + 1).\n",
    "Rearranged formula for gamma(i + 1) into two indefinite integrals using Euler's Formula and given identity for x^i.\n",
    "One indefinite integral contains a real function and the other contains i.\n",
    "Code calculates each integral separately as real functions, then multiplies the result of the \"complex\" portion by i.\n",
    "Finally, both integral results are added together to find i!\n",
    "\n",
    "Method of breaking function into two integrals corresponding to real and complex values found here:\n",
    "https://stackoverflow.com/questions/5965583/use-scipy-integrate-quad-to-integrate-complex-numbers\n",
    "\"\"\"\n",
    "\n",
    "def f_complex(x: float) -> float:\n",
    "    \"\"\"Contains complex integrand\"\"\"\n",
    "    return np.e ** (-x) * np.sin(np.log(x)) # type: ignore\n",
    "\n",
    "\n",
    "def f_real(x: float) -> float:\n",
    "    \"\"\"Contains real integrand\"\"\"\n",
    "    return np.e ** (-x) * np.cos(np.log(x)) # type: ignore\n",
    "\n",
    "\n",
    "def main() -> None:\n",
    "    # Calculate integral of real integrand\n",
    "    real_integral: float = quad(f_real, 0, 1000)[0] # type: ignore\n",
    "    # Calculate integral of complex integrand as a real function, then multiply by j\n",
    "    complex_integral: complex = complex(0, 1) * quad(f_complex, 0, 1000)[0] # type: ignore\n",
    "\n",
    "    # Add real and complex integral solutions to find i!\n",
    "    i_factorial: complex = real_integral + complex_integral # type: ignore\n",
    "\n",
    "    # Display i!\n",
    "    display(Math(f\"i! = {i_factorial}\"))\n",
    "\n",
    "\n",
    "main()"
   ]
  },
  {
   "cell_type": "code",
   "execution_count": null,
   "id": "30a0e441-5fc4-4107-9ed6-c3e5b34a5527",
   "metadata": {},
   "outputs": [],
   "source": []
  }
 ],
 "metadata": {
  "kernelspec": {
   "display_name": "Python 3 (ipykernel)",
   "language": "python",
   "name": "python3"
  },
  "language_info": {
   "codemirror_mode": {
    "name": "ipython",
    "version": 3
   },
   "file_extension": ".py",
   "mimetype": "text/x-python",
   "name": "python",
   "nbconvert_exporter": "python",
   "pygments_lexer": "ipython3",
   "version": "3.9.16"
  }
 },
 "nbformat": 4,
 "nbformat_minor": 5
}
