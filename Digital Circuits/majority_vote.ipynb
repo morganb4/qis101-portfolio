{
 "cells": [
  {
   "cell_type": "code",
   "execution_count": 1,
   "id": "2e05dfaa-9771-4a7f-b0e9-365c5d34ecc9",
   "metadata": {},
   "outputs": [
    {
     "data": {
      "text/latex": [
       "$\\displaystyle \\large\\mathbf{F}=0=\\begin{bmatrix}1\\\\[1em]0\\\\\\end{bmatrix}$"
      ],
      "text/plain": [
       "<IPython.core.display.Math object>"
      ]
     },
     "metadata": {},
     "output_type": "display_data"
    },
    {
     "data": {
      "text/latex": [
       "$\\displaystyle \\large\\mathbf{T}=1=\\begin{bmatrix}0\\\\[1em]1\\\\\\end{bmatrix}$"
      ],
      "text/plain": [
       "<IPython.core.display.Math object>"
      ]
     },
     "metadata": {},
     "output_type": "display_data"
    },
    {
     "data": {
      "text/latex": [
       "$\\displaystyle \\large\\mathbf{NOT}=\\begin{bmatrix}0 &1\\\\[1em]1 &0\\\\\\end{bmatrix}$"
      ],
      "text/plain": [
       "<IPython.core.display.Math object>"
      ]
     },
     "metadata": {},
     "output_type": "display_data"
    },
    {
     "data": {
      "text/latex": [
       "$\\displaystyle \\large\\mathbf{AND}=\\begin{bmatrix}1 &1 &1 &0\\\\[1em]0 &0 &0 &1\\\\\\end{bmatrix}$"
      ],
      "text/plain": [
       "<IPython.core.display.Math object>"
      ]
     },
     "metadata": {},
     "output_type": "display_data"
    },
    {
     "data": {
      "text/latex": [
       "$\\displaystyle \\large\\mathbf{OR}=\\begin{bmatrix}1 &0 &0 &0\\\\[1em]0 &1 &1 &1\\\\\\end{bmatrix}$"
      ],
      "text/plain": [
       "<IPython.core.display.Math object>"
      ]
     },
     "metadata": {},
     "output_type": "display_data"
    }
   ],
   "source": [
    "\"\"\"majority_vote.ipynb\"\"\"\n",
    "# Cell 1: Declare Boolean states and gates.\n",
    "\n",
    "# Adapted from code written by @dbiersach (simple_circuit.ipynb):\n",
    "# https://github.com/dbiersach/qis101/blob/0aa4537a02ac7f71d62ce6bbaf54e1e3175a5d51/labs/Session%2021%20-%20Digital%20Circuits/simple_circuit.ipynb\n",
    "\n",
    "from __future__ import annotations\n",
    "\n",
    "import typing\n",
    "\n",
    "import numpy as np\n",
    "from IPython.core.display import Math\n",
    "from qis101_utils import as_latex\n",
    "\n",
    "if typing.TYPE_CHECKING:\n",
    "    from numpy.typing import NDArray\n",
    "\n",
    "# Declare two Boolean states: False and True\n",
    "f: NDArray[np.complex_] = np.array([[1], [0]])  # False\n",
    "t: NDArray[np.complex_] = np.array([[0], [1]])  # True\n",
    "\n",
    "# Declare three basic gates: NOT, AND, and OR\n",
    "g_not: NDArray[np.complex_] = np.array([[0, 1], [1, 0]])\n",
    "g_and: NDArray[np.complex_] = np.array([[1, 1, 1, 0], [0, 0, 0, 1]])\n",
    "g_or: NDArray[np.complex_] = np.array([[1, 0, 0, 0], [0, 1, 1, 1]])\n",
    "\n",
    "# Display the gates and states\n",
    "display(as_latex(f, prefix=r\"\\mathbf{F}=0=\"))\n",
    "display(as_latex(t, prefix=r\"\\mathbf{T}=1=\"))\n",
    "\n",
    "display(as_latex(g_not, prefix=r\"\\mathbf{NOT}=\"))\n",
    "display(as_latex(g_and, prefix=r\"\\mathbf{AND}=\"))\n",
    "display(as_latex(g_or, prefix=r\"\\mathbf{OR}=\"))\n"
   ]
  },
  {
   "cell_type": "code",
   "execution_count": 3,
   "id": "12a53389-8376-4276-939d-4e6a656cff2f",
   "metadata": {},
   "outputs": [
    {
     "name": "stdout",
     "output_type": "stream",
     "text": [
      "a: [1 0]  b: [1 0]  c: [1 0]  v: [1 0]\n",
      "a: [1 0]  b: [1 0]  c: [0 1]  v: [1 0]\n",
      "a: [1 0]  b: [0 1]  c: [1 0]  v: [1 0]\n",
      "a: [1 0]  b: [0 1]  c: [0 1]  v: [0 1]\n",
      "a: [0 1]  b: [1 0]  c: [1 0]  v: [1 0]\n",
      "a: [0 1]  b: [1 0]  c: [0 1]  v: [0 1]\n",
      "a: [0 1]  b: [0 1]  c: [1 0]  v: [0 1]\n",
      "a: [0 1]  b: [0 1]  c: [0 1]  v: [0 1]\n"
     ]
    }
   ],
   "source": [
    "# Cell 2: Generate truth table for the majority vote circuit.\n",
    "\n",
    "\n",
    "def circuit(\n",
    "    a: NDArray[np.complex_],\n",
    "    b: NDArray[np.complex_],\n",
    "    c: NDArray[np.complex_],\n",
    ") -> NDArray[np.complex_]:\n",
    "    \"\"\"Evaluate the majority vote circuit for given input values\"\"\"\n",
    "    # Create a variable for every gate in the circuit, and evaluate each one\n",
    "    g1: NDArray[np.complex_] = np.dot(g_and, np.kron(a, c))\n",
    "    g2: NDArray[np.complex_] = np.dot(g_and, np.kron(a, b))\n",
    "    g3: NDArray[np.complex_] = np.dot(g_and, np.kron(b, c))\n",
    "    g4: NDArray[np.complex_] = np.dot(g_or, np.kron(g1, g2))\n",
    "    g5: NDArray[np.complex_] = np.dot(g_or, np.kron(g2, g3))\n",
    "    g6: NDArray[np.complex_] = np.dot(g_or, np.kron(g4, g5))\n",
    "    return g6\n",
    "\n",
    "\n",
    "# Create truth table for three inputs and one output\n",
    "for a in [f, t]:  # Iterate through every possible value for each input\n",
    "    for b in [f, t]:\n",
    "        for c in [f, t]:\n",
    "            # Print inputs in a row\n",
    "            print(f\"a: [{a[0][0]} {a[1][0]}]\", end=\"  \")\n",
    "            print(f\"b: [{b[0][0]} {b[1][0]}]\", end=\"  \")\n",
    "            print(f\"c: [{c[0][0]} {c[1][0]}]\", end=\"  \")\n",
    "            # Call the circuit function, and pass in current input values\n",
    "            v: NDArray[np.complex_] = circuit(a, b, c)\n",
    "            # Print output of the circuit in the same row as the inputs\n",
    "            print(f\"v: [{v[0][0]} {v[1][0]}]\")\n"
   ]
  },
  {
   "cell_type": "code",
   "execution_count": null,
   "id": "863664d5-37b3-4496-93cc-e4b2df2378a8",
   "metadata": {},
   "outputs": [],
   "source": []
  }
 ],
 "metadata": {
  "kernelspec": {
   "display_name": "Python 3 (ipykernel)",
   "language": "python",
   "name": "python3"
  },
  "language_info": {
   "codemirror_mode": {
    "name": "ipython",
    "version": 3
   },
   "file_extension": ".py",
   "mimetype": "text/x-python",
   "name": "python",
   "nbconvert_exporter": "python",
   "pygments_lexer": "ipython3",
   "version": "3.9.16"
  }
 },
 "nbformat": 4,
 "nbformat_minor": 5
}
